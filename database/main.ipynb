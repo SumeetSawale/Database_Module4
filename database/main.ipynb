{
 "cells": [
  {
   "cell_type": "code",
   "execution_count": 1,
   "id": "1ac83bb8",
   "metadata": {},
   "outputs": [],
   "source": [
    "from db_manager import DatabaseManager\n"
   ]
  },
  {
   "cell_type": "code",
   "execution_count": 2,
   "id": "7d4a8bff",
   "metadata": {},
   "outputs": [],
   "source": [
    "db_manager = DatabaseManager()"
   ]
  },
  {
   "cell_type": "code",
   "execution_count": 3,
   "id": "451fdbaf",
   "metadata": {},
   "outputs": [
    {
     "name": "stdout",
     "output_type": "stream",
     "text": [
      "Database 'university' created successfully.\n"
     ]
    }
   ],
   "source": [
    "db_manager.create_database('university')"
   ]
  },
  {
   "cell_type": "code",
   "execution_count": 4,
   "id": "6d60805e",
   "metadata": {},
   "outputs": [
    {
     "data": {
      "text/plain": [
       "['university']"
      ]
     },
     "execution_count": 4,
     "metadata": {},
     "output_type": "execute_result"
    }
   ],
   "source": [
    "db_manager.list_databases()"
   ]
  },
  {
   "cell_type": "code",
   "execution_count": 5,
   "id": "f3a18de4",
   "metadata": {},
   "outputs": [],
   "source": [
    "student_schema = {\n",
    "    \"student_id\": int,\n",
    "    \"name\": str,\n",
    "    \"Phone\": str,\n",
    "    \"age\": float,\n",
    "    \"Branch\": str\n",
    "}"
   ]
  },
  {
   "cell_type": "code",
   "execution_count": 6,
   "id": "48577241",
   "metadata": {},
   "outputs": [],
   "source": [
    "prof = {\n",
    "    \"prof_id\": int,\n",
    "    \"name\": str,\n",
    "    \"Phone\": str,\n",
    "    \"age\": float,\n",
    "    \"salary\": int,\n",
    "    \"department\": str\n",
    "}"
   ]
  },
  {
   "cell_type": "code",
   "execution_count": 7,
   "id": "77cefff2",
   "metadata": {},
   "outputs": [
    {
     "name": "stdout",
     "output_type": "stream",
     "text": [
      "Table 'professor' created successfully in database 'university'.\n"
     ]
    }
   ],
   "source": [
    "db_manager.create_table('university', 'professor', prof, order=6, search_key= \"prof_id\")"
   ]
  },
  {
   "cell_type": "code",
   "execution_count": 8,
   "id": "6fbe61d0",
   "metadata": {},
   "outputs": [
    {
     "name": "stdout",
     "output_type": "stream",
     "text": [
      "Table 'student' created successfully in database 'university'.\n"
     ]
    }
   ],
   "source": [
    "db_manager.create_table('university', 'student', student_schema, order=6, search_key= \"student_id\")"
   ]
  },
  {
   "cell_type": "code",
   "execution_count": 9,
   "id": "c0ccf170",
   "metadata": {},
   "outputs": [
    {
     "data": {
      "text/plain": [
       "['professor', 'student']"
      ]
     },
     "execution_count": 9,
     "metadata": {},
     "output_type": "execute_result"
    }
   ],
   "source": [
    "tables_name = db_manager.list_tables('university')\n",
    "tables_name"
   ]
  },
  {
   "cell_type": "code",
   "execution_count": 10,
   "id": "89150f89",
   "metadata": {},
   "outputs": [
    {
     "data": {
      "text/plain": [
       "[]"
      ]
     },
     "execution_count": 10,
     "metadata": {},
     "output_type": "execute_result"
    }
   ],
   "source": [
    "table_stu= db_manager.get_table('university', 'student')\n",
    "table_stu.get_all()"
   ]
  },
  {
   "cell_type": "code",
   "execution_count": 11,
   "id": "2bf23ebd",
   "metadata": {},
   "outputs": [],
   "source": [
    "rec = {\n",
    "    \"student_id\": 9,\n",
    "    \"name\": \"xyzf\",\n",
    "    \"Phone\": \"846699\",\n",
    "    \"age\": 26.0,\n",
    "    \"Branch\": \"pech Eng1\"\n",
    "}"
   ]
  },
  {
   "cell_type": "markdown",
   "id": "5ab55ba4",
   "metadata": {},
   "source": [
    "### INsertion"
   ]
  },
  {
   "cell_type": "code",
   "execution_count": 12,
   "id": "7aa0abe8",
   "metadata": {},
   "outputs": [
    {
     "name": "stdout",
     "output_type": "stream",
     "text": [
      "Record validated successfully: {'student_id': 9, 'name': 'xyzf', 'Phone': '846699', 'age': 26.0, 'Branch': 'pech Eng1'}\n",
      "Record with key '9' inserted successfully.\n"
     ]
    }
   ],
   "source": [
    "table_stu.insert(rec)"
   ]
  },
  {
   "cell_type": "markdown",
   "id": "327a8940",
   "metadata": {},
   "source": [
    "### Search"
   ]
  },
  {
   "cell_type": "code",
   "execution_count": 13,
   "id": "07f66888",
   "metadata": {},
   "outputs": [
    {
     "data": {
      "text/plain": [
       "{'student_id': 9,\n",
       " 'name': 'xyzf',\n",
       " 'Phone': '846699',\n",
       " 'age': 26.0,\n",
       " 'Branch': 'pech Eng1'}"
      ]
     },
     "execution_count": 13,
     "metadata": {},
     "output_type": "execute_result"
    }
   ],
   "source": [
    "table_stu.get(9)\n"
   ]
  },
  {
   "cell_type": "markdown",
   "id": "2f9de0dd",
   "metadata": {},
   "source": [
    "### Update"
   ]
  },
  {
   "cell_type": "code",
   "execution_count": 14,
   "id": "47674593",
   "metadata": {},
   "outputs": [],
   "source": [
    "new_rec = {'student_id': 25,\n",
    " 'name': 'xyzf',\n",
    " 'Phone': '846',\n",
    " 'age': 26.0,\n",
    " 'Branch': 'pech Eng1'}"
   ]
  },
  {
   "cell_type": "code",
   "execution_count": 15,
   "id": "aa7b53b3",
   "metadata": {},
   "outputs": [
    {
     "name": "stdout",
     "output_type": "stream",
     "text": [
      "Record validated successfully: {'student_id': 25, 'name': 'xyzf', 'Phone': '846', 'age': 26.0, 'Branch': 'pech Eng1'}\n",
      "Record with key '9' updated successfully.\n"
     ]
    }
   ],
   "source": [
    "table_stu.update(9, new_rec)"
   ]
  },
  {
   "cell_type": "code",
   "execution_count": 16,
   "id": "ce3dc53d",
   "metadata": {},
   "outputs": [
    {
     "data": {
      "image/svg+xml": [
       "<svg xmlns=\"http://www.w3.org/2000/svg\" xmlns:xlink=\"http://www.w3.org/1999/xlink\" width=\"95pt\" height=\"68pt\" viewBox=\"0.00 0.00 95.25 67.50\">\n",
       "<g id=\"graph0\" class=\"graph\" transform=\"scale(1 1) rotate(0) translate(4 63.5)\">\n",
       "<polygon fill=\"white\" stroke=\"none\" points=\"-4,4 -4,-63.5 91.25,-63.5 91.25,4 -4,4\"/>\n",
       "<!-- node_root -->\n",
       "<g id=\"node1\" class=\"node\">\n",
       "<title>node_root</title>\n",
       "<polygon fill=\"lightblue\" stroke=\"none\" points=\"0,0 0,-59.5 87.25,-59.5 87.25,0 0,0\"/>\n",
       "<polygon fill=\"none\" stroke=\"black\" points=\"0,0 0,-59.5 87.25,-59.5 87.25,0 0,0\"/>\n",
       "<text text-anchor=\"start\" x=\"25.25\" y=\"-41.2\" font-family=\"Times New Roman,serif\" font-size=\"14.00\">Key: 9</text>\n",
       "<text text-anchor=\"start\" x=\"5\" y=\"-24.7\" font-family=\"Times New Roman,serif\" font-size=\"14.00\">student_id: 25</text>\n",
       "<text text-anchor=\"start\" x=\"12.88\" y=\"-8.2\" font-family=\"Times New Roman,serif\" font-size=\"14.00\">name: xyzf</text>\n",
       "</g>\n",
       "</g>\n",
       "</svg>"
      ],
      "text/plain": [
       "<IPython.core.display.SVG object>"
      ]
     },
     "metadata": {},
     "output_type": "display_data"
    }
   ],
   "source": [
    "from IPython.display import SVG, display\n",
    "\n",
    "dot = table_stu.data.visualize_tree()\n",
    "svg_data = dot.pipe(format='svg').decode('utf-8')\n",
    "display(SVG(svg_data))"
   ]
  },
  {
   "cell_type": "markdown",
   "id": "60282f60",
   "metadata": {},
   "source": [
    "### Deletion"
   ]
  },
  {
   "cell_type": "code",
   "execution_count": 17,
   "id": "b0ae6973",
   "metadata": {},
   "outputs": [
    {
     "name": "stdout",
     "output_type": "stream",
     "text": [
      "Record with key '9' deleted successfully.\n"
     ]
    }
   ],
   "source": [
    "table_stu.delete(9)"
   ]
  },
  {
   "cell_type": "markdown",
   "id": "39d35b29",
   "metadata": {},
   "source": [
    "### Range Query"
   ]
  },
  {
   "cell_type": "code",
   "execution_count": 18,
   "id": "901fd4f1",
   "metadata": {},
   "outputs": [],
   "source": [
    "import random\n",
    "import string\n",
    "\n",
    "def random_record_generator(schema, n):\n",
    "    def random_value(data_type):\n",
    "        if data_type == int:\n",
    "            return random.randint(1, 100)\n",
    "        elif data_type == float:\n",
    "            return round(random.uniform(18.0, 60.0), 2)\n",
    "        elif data_type == str:\n",
    "            return ''.join(random.choices(string.ascii_letters, k=6))\n",
    "        else:\n",
    "            return None  # Unknown type\n",
    "\n",
    "    records = []\n",
    "    for _ in range(n):\n",
    "        record = {}\n",
    "        for field, field_type in schema.items():\n",
    "            record[field] = random_value(field_type)\n",
    "        records.append(record)\n",
    "    return records"
   ]
  },
  {
   "cell_type": "code",
   "execution_count": 20,
   "id": "d0300dc8",
   "metadata": {},
   "outputs": [
    {
     "name": "stdout",
     "output_type": "stream",
     "text": [
      "Record validated successfully: {'student_id': 94, 'name': 'FdFLGm', 'Phone': 'fIIQka', 'age': 34.28, 'Branch': 'uzZOGz'}\n",
      "Record with key '94' inserted successfully.\n",
      "Record validated successfully: {'student_id': 5, 'name': 'kGroGt', 'Phone': 'PsrxLj', 'age': 28.31, 'Branch': 'bqvdGZ'}\n",
      "Record with key '5' inserted successfully.\n",
      "Record validated successfully: {'student_id': 43, 'name': 'LtBjUY', 'Phone': 'zzhjtz', 'age': 54.06, 'Branch': 'JkjtsZ'}\n",
      "Record with key '43' inserted successfully.\n",
      "Record validated successfully: {'student_id': 29, 'name': 'qmbNea', 'Phone': 'CIpIgm', 'age': 49.96, 'Branch': 'ySfjAB'}\n",
      "Record with key '29' inserted successfully.\n",
      "Record validated successfully: {'student_id': 82, 'name': 'rMvhzQ', 'Phone': 'waRwqw', 'age': 35.15, 'Branch': 'BeEhuT'}\n",
      "Record with key '82' inserted successfully.\n",
      "Record validated successfully: {'student_id': 6, 'name': 'NdZMUI', 'Phone': 'rqfdYF', 'age': 27.68, 'Branch': 'vcGQfM'}\n",
      "Record with key '6' inserted successfully.\n",
      "Record validated successfully: {'student_id': 37, 'name': 'xFuhdw', 'Phone': 'yiDBco', 'age': 35.76, 'Branch': 'CKqFzp'}\n",
      "Record with key '37' inserted successfully.\n",
      "Record validated successfully: {'student_id': 12, 'name': 'TttmKX', 'Phone': 'lsXewG', 'age': 45.29, 'Branch': 'PPbsAL'}\n",
      "Record with key '12' inserted successfully.\n",
      "Record validated successfully: {'student_id': 38, 'name': 'aJmama', 'Phone': 'EaxkHu', 'age': 19.52, 'Branch': 'YeLFCY'}\n",
      "Record with key '38' inserted successfully.\n",
      "Record validated successfully: {'student_id': 69, 'name': 'LxaLsg', 'Phone': 'iVAgFn', 'age': 58.32, 'Branch': 'UVBBnr'}\n",
      "Record with key '69' inserted successfully.\n",
      "Record validated successfully: {'student_id': 18, 'name': 'cVKLAX', 'Phone': 'TlEPvv', 'age': 19.5, 'Branch': 'NhbTbP'}\n",
      "Record with key '18' inserted successfully.\n",
      "Record validated successfully: {'student_id': 100, 'name': 'pkcXdZ', 'Phone': 'YNzvCV', 'age': 53.93, 'Branch': 'tGJdYY'}\n"
     ]
    },
    {
     "ename": "ValueError",
     "evalue": "Record with key '100' already exists.",
     "output_type": "error",
     "traceback": [
      "\u001b[1;31m---------------------------------------------------------------------------\u001b[0m",
      "\u001b[1;31mValueError\u001b[0m                                Traceback (most recent call last)",
      "Cell \u001b[1;32mIn[20], line 5\u001b[0m\n\u001b[0;32m      2\u001b[0m records \u001b[38;5;241m=\u001b[39m random_record_generator(student_schema, \u001b[38;5;241m50\u001b[39m)\n\u001b[0;32m      4\u001b[0m \u001b[38;5;28;01mfor\u001b[39;00m rec \u001b[38;5;129;01min\u001b[39;00m records:\n\u001b[1;32m----> 5\u001b[0m     \u001b[43mtable_stu\u001b[49m\u001b[38;5;241;43m.\u001b[39;49m\u001b[43minsert\u001b[49m\u001b[43m(\u001b[49m\u001b[43mrec\u001b[49m\u001b[43m)\u001b[49m\n",
      "File \u001b[1;32mc:\\Users\\npkas\\Databases\\Database_temp\\db_management_system\\database\\table.py:35\u001b[0m, in \u001b[0;36mTable.insert\u001b[1;34m(self, record)\u001b[0m\n\u001b[0;32m     33\u001b[0m key \u001b[38;5;241m=\u001b[39m record[\u001b[38;5;28mself\u001b[39m\u001b[38;5;241m.\u001b[39msearch_key]\n\u001b[0;32m     34\u001b[0m \u001b[38;5;28;01mif\u001b[39;00m \u001b[38;5;28mself\u001b[39m\u001b[38;5;241m.\u001b[39mdata\u001b[38;5;241m.\u001b[39msearch(key) \u001b[38;5;129;01mis\u001b[39;00m \u001b[38;5;129;01mnot\u001b[39;00m \u001b[38;5;28;01mNone\u001b[39;00m:\n\u001b[1;32m---> 35\u001b[0m     \u001b[38;5;28;01mraise\u001b[39;00m \u001b[38;5;167;01mValueError\u001b[39;00m(\u001b[38;5;124mf\u001b[39m\u001b[38;5;124m\"\u001b[39m\u001b[38;5;124mRecord with key \u001b[39m\u001b[38;5;124m'\u001b[39m\u001b[38;5;132;01m{\u001b[39;00mkey\u001b[38;5;132;01m}\u001b[39;00m\u001b[38;5;124m'\u001b[39m\u001b[38;5;124m already exists.\u001b[39m\u001b[38;5;124m\"\u001b[39m)\n\u001b[0;32m     36\u001b[0m \u001b[38;5;28mself\u001b[39m\u001b[38;5;241m.\u001b[39mdata\u001b[38;5;241m.\u001b[39minsert(key, record)\n\u001b[0;32m     37\u001b[0m \u001b[38;5;28mprint\u001b[39m(\u001b[38;5;124mf\u001b[39m\u001b[38;5;124m\"\u001b[39m\u001b[38;5;124mRecord with key \u001b[39m\u001b[38;5;124m'\u001b[39m\u001b[38;5;132;01m{\u001b[39;00mkey\u001b[38;5;132;01m}\u001b[39;00m\u001b[38;5;124m'\u001b[39m\u001b[38;5;124m inserted successfully.\u001b[39m\u001b[38;5;124m\"\u001b[39m)\n",
      "\u001b[1;31mValueError\u001b[0m: Record with key '100' already exists."
     ]
    }
   ],
   "source": [
    "import pandas as pd\n",
    "records = random_record_generator(student_schema, 50)\n",
    "\n",
    "for rec in records:\n",
    "    table_stu.insert(rec)\n",
    " "
   ]
  },
  {
   "cell_type": "code",
   "execution_count": null,
   "id": "abad793b",
   "metadata": {},
   "outputs": [
    {
     "data": {
      "text/plain": [
       "[{'student_id': 70,\n",
       "  'name': 'WzEMhz',\n",
       "  'Phone': 'ykcYTY',\n",
       "  'age': 24.41,\n",
       "  'Branch': 'FbMtbg'}]"
      ]
     },
     "execution_count": 19,
     "metadata": {},
     "output_type": "execute_result"
    }
   ],
   "source": [
    "table_stu.range_query(63, 70)"
   ]
  },
  {
   "cell_type": "markdown",
   "id": "f98f30c0",
   "metadata": {},
   "source": [
    "### Visualization"
   ]
  },
  {
   "cell_type": "code",
   "execution_count": 22,
   "id": "d92d4429",
   "metadata": {},
   "outputs": [
    {
     "data": {
      "text/plain": [
       "29"
      ]
     },
     "execution_count": 22,
     "metadata": {},
     "output_type": "execute_result"
    }
   ],
   "source": [
    "len(table_stu.get_all()) # insert at least 20-30 records"
   ]
  },
  {
   "cell_type": "code",
   "execution_count": 23,
   "id": "8ec65b85",
   "metadata": {},
   "outputs": [
    {
     "data": {
      "text/plain": [
       "'tree_after_insert.pdf'"
      ]
     },
     "execution_count": 23,
     "metadata": {},
     "output_type": "execute_result"
    }
   ],
   "source": [
    "dot = table_stu.data.visualize_tree()\n",
    "dot.render('tree_after_insert', view=True)"
   ]
  },
  {
   "cell_type": "markdown",
   "id": "f7f9dd1b",
   "metadata": {},
   "source": [
    "## Performance testing"
   ]
  },
  {
   "cell_type": "code",
   "execution_count": null,
   "id": "334e101d",
   "metadata": {},
   "outputs": [],
   "source": []
  }
 ],
 "metadata": {
  "kernelspec": {
   "display_name": "Python 3",
   "language": "python",
   "name": "python3"
  },
  "language_info": {
   "codemirror_mode": {
    "name": "ipython",
    "version": 3
   },
   "file_extension": ".py",
   "mimetype": "text/x-python",
   "name": "python",
   "nbconvert_exporter": "python",
   "pygments_lexer": "ipython3",
   "version": "3.12.1"
  }
 },
 "nbformat": 4,
 "nbformat_minor": 5
}
