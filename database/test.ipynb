{
 "cells": [
  {
   "cell_type": "code",
   "execution_count": 4,
   "id": "7f80320f",
   "metadata": {},
   "outputs": [],
   "source": [
    "from db_manager import DatabaseManager\n",
    "db_manager = DatabaseManager()"
   ]
  },
  {
   "cell_type": "code",
   "execution_count": 5,
   "id": "56debf52",
   "metadata": {},
   "outputs": [
    {
     "name": "stdout",
     "output_type": "stream",
     "text": [
      "Database 'dinewell' created successfully.\n"
     ]
    }
   ],
   "source": [
    "db_manager.create_database('dinewell')"
   ]
  },
  {
   "cell_type": "code",
   "execution_count": 6,
   "id": "fca04651",
   "metadata": {},
   "outputs": [],
   "source": [
    "member_schema = {\n",
    "    'UserName': str,\n",
    "    'ID': int,\n",
    "    'emailID': str,\n",
    "    'DoB': str\n",
    "}"
   ]
  },
  {
   "cell_type": "code",
   "execution_count": 7,
   "id": "1c80b23e",
   "metadata": {},
   "outputs": [
    {
     "name": "stdout",
     "output_type": "stream",
     "text": [
      "Table 'members' created successfully in database 'dinewell'.\n"
     ]
    }
   ],
   "source": [
    "db_manager.create_table(\n",
    "    db_name=\"dinewell\",\n",
    "    table_name=\"members\",\n",
    "    schema=member_schema,\n",
    "    order=6,\n",
    "    search_key=\"ID\"  \n",
    ")"
   ]
  },
  {
   "cell_type": "code",
   "execution_count": 8,
   "id": "5853e968",
   "metadata": {},
   "outputs": [],
   "source": [
    "revenue_schema = {\n",
    "    'Month' : str,\n",
    "    'Payemnt' : float,\n",
    "    'Inventory' : float,\n",
    "    'Salary' : float,\n",
    "    'Utilities': float,\n",
    "    'TotalExpense' : float,\n",
    "    'TotalRevenue' : float,\n",
    "}"
   ]
  },
  {
   "cell_type": "code",
   "execution_count": 9,
   "id": "c242f7fa",
   "metadata": {},
   "outputs": [
    {
     "name": "stdout",
     "output_type": "stream",
     "text": [
      "Table 'revenue' created successfully in database 'dinewell'.\n"
     ]
    }
   ],
   "source": [
    "db_manager.create_table(\n",
    "    db_name=\"dinewell\",\n",
    "    table_name=\"revenue\",\n",
    "    schema=revenue_schema,\n",
    "    order=6,\n",
    "    search_key=\"Month\"  \n",
    ")"
   ]
  },
  {
   "cell_type": "code",
   "execution_count": 10,
   "id": "296d0698",
   "metadata": {},
   "outputs": [
    {
     "data": {
      "text/plain": [
       "['members', 'revenue']"
      ]
     },
     "execution_count": 10,
     "metadata": {},
     "output_type": "execute_result"
    }
   ],
   "source": [
    "tables_name = db_manager.list_tables('dinewell')\n",
    "tables_name"
   ]
  },
  {
   "cell_type": "code",
   "execution_count": 11,
   "id": "035ebf8f",
   "metadata": {},
   "outputs": [],
   "source": [
    "table_mem= db_manager.get_table('dinewell', 'members')\n",
    "table_rev= db_manager.get_table('dinewell', 'revenue')"
   ]
  },
  {
   "cell_type": "markdown",
   "id": "d01a66c1",
   "metadata": {},
   "source": [
    "### Inserting Tables"
   ]
  },
  {
   "cell_type": "code",
   "execution_count": 12,
   "id": "5e592e46",
   "metadata": {},
   "outputs": [
    {
     "name": "stdout",
     "output_type": "stream",
     "text": [
      "Record validated successfully: {'UserName': 'Member0', 'ID': 0, 'emailID': 'Member0@dinewell.com', 'DoB': '2000-01-01'}\n",
      "Record with key '0' inserted successfully.\n",
      "Record validated successfully: {'UserName': 'Member1', 'ID': 1, 'emailID': 'Member1@dinewell.com', 'DoB': '2000-01-01'}\n",
      "Record with key '1' inserted successfully.\n",
      "Record validated successfully: {'UserName': 'Member2', 'ID': 2, 'emailID': 'Member2@dinewell.com', 'DoB': '2000-01-01'}\n",
      "Record with key '2' inserted successfully.\n",
      "Record validated successfully: {'UserName': 'Member3', 'ID': 3, 'emailID': 'Member3@dinewell.com', 'DoB': '2000-01-01'}\n",
      "Record with key '3' inserted successfully.\n",
      "Record validated successfully: {'UserName': 'Member4', 'ID': 4, 'emailID': 'Member4@dinewell.com', 'DoB': '2000-01-01'}\n",
      "Record with key '4' inserted successfully.\n",
      "Record validated successfully: {'UserName': 'Member5', 'ID': 5, 'emailID': 'Member5@dinewell.com', 'DoB': '2000-01-01'}\n",
      "Record with key '5' inserted successfully.\n",
      "Record validated successfully: {'UserName': 'Member6', 'ID': 6, 'emailID': 'Member6@dinewell.com', 'DoB': '2000-01-01'}\n",
      "Record with key '6' inserted successfully.\n",
      "Record validated successfully: {'UserName': 'Member7', 'ID': 7, 'emailID': 'Member7@dinewell.com', 'DoB': '2000-01-01'}\n",
      "Record with key '7' inserted successfully.\n",
      "Record validated successfully: {'UserName': 'Member8', 'ID': 8, 'emailID': 'Member8@dinewell.com', 'DoB': '2000-01-01'}\n",
      "Record with key '8' inserted successfully.\n",
      "Record validated successfully: {'UserName': 'Member9', 'ID': 9, 'emailID': 'Member9@dinewell.com', 'DoB': '2000-01-01'}\n",
      "Record with key '9' inserted successfully.\n",
      "Record validated successfully: {'UserName': 'Member10', 'ID': 10, 'emailID': 'Member10@dinewell.com', 'DoB': '2000-01-01'}\n",
      "Record with key '10' inserted successfully.\n",
      "Record validated successfully: {'UserName': 'Member11', 'ID': 11, 'emailID': 'Member11@dinewell.com', 'DoB': '2000-01-01'}\n",
      "Record with key '11' inserted successfully.\n",
      "Record validated successfully: {'UserName': 'Member12', 'ID': 12, 'emailID': 'Member12@dinewell.com', 'DoB': '2000-01-01'}\n",
      "Record with key '12' inserted successfully.\n",
      "Record validated successfully: {'UserName': 'Member13', 'ID': 13, 'emailID': 'Member13@dinewell.com', 'DoB': '2000-01-01'}\n",
      "Record with key '13' inserted successfully.\n",
      "Record validated successfully: {'UserName': 'Member14', 'ID': 14, 'emailID': 'Member14@dinewell.com', 'DoB': '2000-01-01'}\n",
      "Record with key '14' inserted successfully.\n",
      "Record validated successfully: {'UserName': 'Member15', 'ID': 15, 'emailID': 'Member15@dinewell.com', 'DoB': '2000-01-01'}\n",
      "Record with key '15' inserted successfully.\n",
      "Record validated successfully: {'UserName': 'Member16', 'ID': 16, 'emailID': 'Member16@dinewell.com', 'DoB': '2000-01-01'}\n",
      "Record with key '16' inserted successfully.\n",
      "Record validated successfully: {'UserName': 'Member17', 'ID': 17, 'emailID': 'Member17@dinewell.com', 'DoB': '2000-01-01'}\n",
      "Record with key '17' inserted successfully.\n",
      "Record validated successfully: {'UserName': 'Member18', 'ID': 18, 'emailID': 'Member18@dinewell.com', 'DoB': '2000-01-01'}\n",
      "Record with key '18' inserted successfully.\n",
      "Record validated successfully: {'UserName': 'Member19', 'ID': 19, 'emailID': 'Member19@dinewell.com', 'DoB': '2000-01-01'}\n",
      "Record with key '19' inserted successfully.\n",
      "Record validated successfully: {'UserName': 'Council0', 'ID': 20, 'emailID': 'Council0@dinewell.com', 'DoB': '2000-01-01'}\n",
      "Record with key '20' inserted successfully.\n",
      "Record validated successfully: {'UserName': 'Council1', 'ID': 21, 'emailID': 'Council1@dinewell.com', 'DoB': '2000-01-01'}\n",
      "Record with key '21' inserted successfully.\n",
      "Record validated successfully: {'UserName': 'Council2', 'ID': 22, 'emailID': 'Council2@dinewell.com', 'DoB': '2000-01-01'}\n",
      "Record with key '22' inserted successfully.\n",
      "Record validated successfully: {'UserName': 'Council3', 'ID': 23, 'emailID': 'Council3@dinewell.com', 'DoB': '2000-01-01'}\n",
      "Record with key '23' inserted successfully.\n",
      "Record validated successfully: {'UserName': 'Council4', 'ID': 24, 'emailID': 'Council4@dinewell.com', 'DoB': '2000-01-01'}\n",
      "Record with key '24' inserted successfully.\n",
      "Record validated successfully: {'UserName': 'Employee0', 'ID': 25, 'emailID': 'Employee0@dinewell.com', 'DoB': '2000-01-01'}\n",
      "Record with key '25' inserted successfully.\n",
      "Record validated successfully: {'UserName': 'Employee1', 'ID': 26, 'emailID': 'Employee1@dinewell.com', 'DoB': '2000-01-01'}\n",
      "Record with key '26' inserted successfully.\n",
      "Record validated successfully: {'UserName': 'Employee2', 'ID': 27, 'emailID': 'Employee2@dinewell.com', 'DoB': '2000-01-01'}\n",
      "Record with key '27' inserted successfully.\n",
      "Record validated successfully: {'UserName': 'Employee3', 'ID': 28, 'emailID': 'Employee3@dinewell.com', 'DoB': '2000-01-01'}\n",
      "Record with key '28' inserted successfully.\n",
      "Record validated successfully: {'UserName': 'Employee4', 'ID': 29, 'emailID': 'Employee4@dinewell.com', 'DoB': '2000-01-01'}\n",
      "Record with key '29' inserted successfully.\n",
      "Record validated successfully: {'UserName': 'Admin', 'ID': 30, 'emailID': 'admin@dinewell.com', 'DoB': '2000-01-01'}\n",
      "Record with key '30' inserted successfully.\n"
     ]
    }
   ],
   "source": [
    "for i in range(20):\n",
    "    member = {\n",
    "    'UserName': f\"Member{i}\",\n",
    "    'ID': i,\n",
    "    'emailID': f\"Member{i}@dinewell.com\",\n",
    "    'DoB': \"2000-01-01\"\n",
    "    }\n",
    "    table_mem.insert(member)\n",
    "\n",
    "for i in range(5):\n",
    "    council = {\n",
    "    'UserName': f\"Council{i}\",\n",
    "    'ID': i+20,\n",
    "    'emailID': f\"Council{i}@dinewell.com\",\n",
    "    'DoB': \"2000-01-01\"\n",
    "    }\n",
    "    table_mem.insert(council)\n",
    "\n",
    "for i in range(5):\n",
    "    employee = {\n",
    "    'UserName': f\"Employee{i}\",\n",
    "    'ID': i+25,\n",
    "    'emailID': f\"Employee{i}@dinewell.com\",\n",
    "    'DoB': \"2000-01-01\"\n",
    "    }\n",
    "    table_mem.insert(employee)\n",
    "\n",
    "admin = {\n",
    "    'UserName': \"Admin\",\n",
    "    'ID': 30,\n",
    "    'emailID': \"admin@dinewell.com\",\n",
    "    'DoB': \"2000-01-01\"\n",
    "    }\n",
    "table_mem.insert(admin)\n",
    "        "
   ]
  },
  {
   "cell_type": "code",
   "execution_count": 13,
   "id": "f8a34f73",
   "metadata": {},
   "outputs": [
    {
     "name": "stdout",
     "output_type": "stream",
     "text": [
      "Record validated successfully: {'Month': 'January', 'Payemnt': 67121.56, 'Inventory': 17195.14, 'Salary': 49360.05, 'Utilities': 13505.29, 'TotalExpense': 80060.48, 'TotalRevenue': -12938.92}\n",
      "Record with key 'January' inserted successfully.\n",
      "Record validated successfully: {'Month': 'February', 'Payemnt': 118942.53, 'Inventory': 22106.93, 'Salary': 45896.92, 'Utilities': 6194.18, 'TotalExpense': 74198.03, 'TotalRevenue': 44744.5}\n",
      "Record with key 'February' inserted successfully.\n",
      "Record validated successfully: {'Month': 'March', 'Payemnt': 105591.33, 'Inventory': 26403.08, 'Salary': 44912.23, 'Utilities': 11934.55, 'TotalExpense': 83249.86, 'TotalRevenue': 22341.47}\n",
      "Record with key 'March' inserted successfully.\n",
      "Record validated successfully: {'Month': 'April', 'Payemnt': 147596.02, 'Inventory': 20397.33, 'Salary': 23751.9, 'Utilities': 13986.56, 'TotalExpense': 58135.79, 'TotalRevenue': 89460.23}\n",
      "Record with key 'April' inserted successfully.\n",
      "Record validated successfully: {'Month': 'May', 'Payemnt': 61790.19, 'Inventory': 16754.17, 'Salary': 44105.6, 'Utilities': 7043.84, 'TotalExpense': 67903.61, 'TotalRevenue': -6113.42}\n",
      "Record with key 'May' inserted successfully.\n",
      "Record validated successfully: {'Month': 'June', 'Payemnt': 132121.59, 'Inventory': 16500.25, 'Salary': 20824.3, 'Utilities': 14115.31, 'TotalExpense': 51439.86, 'TotalRevenue': 80681.73}\n",
      "Record with key 'June' inserted successfully.\n",
      "Record validated successfully: {'Month': 'July', 'Payemnt': 65377.45, 'Inventory': 23746.7, 'Salary': 32687.29, 'Utilities': 12757.7, 'TotalExpense': 69191.69, 'TotalRevenue': -3814.24}\n",
      "Record with key 'July' inserted successfully.\n",
      "Record validated successfully: {'Month': 'August', 'Payemnt': 117984.79, 'Inventory': 24964.88, 'Salary': 40401.07, 'Utilities': 13809.9, 'TotalExpense': 79175.85, 'TotalRevenue': 38808.94}\n",
      "Record with key 'August' inserted successfully.\n",
      "Record validated successfully: {'Month': 'September', 'Payemnt': 118590.2, 'Inventory': 21363.61, 'Salary': 48907.19, 'Utilities': 13880.44, 'TotalExpense': 84151.24, 'TotalRevenue': 34438.96}\n",
      "Record with key 'September' inserted successfully.\n",
      "Record validated successfully: {'Month': 'October', 'Payemnt': 105322.28, 'Inventory': 26582.91, 'Salary': 36466.59, 'Utilities': 12190.32, 'TotalExpense': 75239.82, 'TotalRevenue': 30082.46}\n",
      "Record with key 'October' inserted successfully.\n",
      "Record validated successfully: {'Month': 'November', 'Payemnt': 115156.0, 'Inventory': 26485.63, 'Salary': 24354.06, 'Utilities': 9195.06, 'TotalExpense': 60034.75, 'TotalRevenue': 55121.25}\n",
      "Record with key 'November' inserted successfully.\n",
      "Record validated successfully: {'Month': 'December', 'Payemnt': 140980.99, 'Inventory': 20216.28, 'Salary': 23838.02, 'Utilities': 12479.6, 'TotalExpense': 56533.9, 'TotalRevenue': 84447.09}\n",
      "Record with key 'December' inserted successfully.\n"
     ]
    }
   ],
   "source": [
    "import random\n",
    "\n",
    "# List of month names\n",
    "month_names = [\n",
    "    \"January\", \"February\", \"March\", \"April\", \"May\", \"June\",\n",
    "    \"July\", \"August\", \"September\", \"October\", \"November\", \"December\"\n",
    "]\n",
    "\n",
    "\n",
    "for month in month_names:\n",
    "\n",
    "    payment = round(random.uniform(50000, 150000), 2)\n",
    "    inventory = round(random.uniform(10000, 30000), 2)\n",
    "    salary = round(random.uniform(20000, 50000), 2)\n",
    "    utilities = round(random.uniform(5000, 15000), 2)\n",
    "\n",
    "    total_expense = round(inventory + salary + utilities, 2)\n",
    "    total_revenue = round(payment - total_expense, 2)\n",
    "\n",
    "    record = {\n",
    "        'Month': month,\n",
    "        'Payemnt': payment,\n",
    "        'Inventory': inventory,\n",
    "        'Salary': salary,\n",
    "        'Utilities': utilities,\n",
    "        'TotalExpense': total_expense,\n",
    "        'TotalRevenue': total_revenue,\n",
    "    }\n",
    "\n",
    "    table_rev.insert(record)\n"
   ]
  },
  {
   "cell_type": "code",
   "execution_count": 14,
   "id": "99bb3930",
   "metadata": {},
   "outputs": [
    {
     "data": {
      "image/svg+xml": [
       "<svg xmlns=\"http://www.w3.org/2000/svg\" xmlns:xlink=\"http://www.w3.org/1999/xlink\" width=\"169pt\" height=\"35pt\" viewBox=\"0.00 0.00 168.75 34.50\">\n",
       "<g id=\"graph0\" class=\"graph\" transform=\"scale(1 1) rotate(0) translate(4 30.5)\">\n",
       "<polygon fill=\"white\" stroke=\"none\" points=\"-4,4 -4,-30.5 164.75,-30.5 164.75,4 -4,4\"/>\n",
       "<!-- node_root -->\n",
       "<g id=\"node1\" class=\"node\">\n",
       "<title>node_root</title>\n",
       "<polygon fill=\"none\" stroke=\"black\" points=\"0,0 0,-26.5 24.25,-26.5 24.25,0 0,0\"/>\n",
       "<text text-anchor=\"start\" x=\"5\" y=\"-8.2\" font-family=\"Times New Roman,serif\" font-size=\"14.00\">P0</text>\n",
       "<polygon fill=\"none\" stroke=\"black\" points=\"24.25,0 24.25,-26.5 41,-26.5 41,0 24.25,0\"/>\n",
       "<text text-anchor=\"start\" x=\"29.25\" y=\"-8.2\" font-family=\"Times New Roman,serif\" font-size=\"14.00\">6</text>\n",
       "<polygon fill=\"none\" stroke=\"black\" points=\"41,0 41,-26.5 65.25,-26.5 65.25,0 41,0\"/>\n",
       "<text text-anchor=\"start\" x=\"46\" y=\"-8.2\" font-family=\"Times New Roman,serif\" font-size=\"14.00\">P1</text>\n",
       "<polygon fill=\"none\" stroke=\"black\" points=\"65.25,0 65.25,-26.5 88.75,-26.5 88.75,0 65.25,0\"/>\n",
       "<text text-anchor=\"start\" x=\"70.25\" y=\"-8.2\" font-family=\"Times New Roman,serif\" font-size=\"14.00\">12</text>\n",
       "<polygon fill=\"none\" stroke=\"black\" points=\"88.75,0 88.75,-26.5 113,-26.5 113,0 88.75,0\"/>\n",
       "<text text-anchor=\"start\" x=\"93.75\" y=\"-8.2\" font-family=\"Times New Roman,serif\" font-size=\"14.00\">P2</text>\n",
       "<polygon fill=\"none\" stroke=\"black\" points=\"113,0 113,-26.5 136.5,-26.5 136.5,0 113,0\"/>\n",
       "<text text-anchor=\"start\" x=\"118\" y=\"-8.2\" font-family=\"Times New Roman,serif\" font-size=\"14.00\">18</text>\n",
       "<polygon fill=\"none\" stroke=\"black\" points=\"136.5,0 136.5,-26.5 160.75,-26.5 160.75,0 136.5,0\"/>\n",
       "<text text-anchor=\"start\" x=\"141.5\" y=\"-8.2\" font-family=\"Times New Roman,serif\" font-size=\"14.00\">P3</text>\n",
       "</g>\n",
       "</g>\n",
       "</svg>"
      ],
      "text/plain": [
       "<IPython.core.display.SVG object>"
      ]
     },
     "metadata": {},
     "output_type": "display_data"
    }
   ],
   "source": [
    "from IPython.display import SVG, display\n",
    "\n",
    "dot = table_mem.data.visualize_tree()\n",
    "svg_data = dot.pipe(format='svg').decode('utf-8')\n",
    "display(SVG(svg_data))"
   ]
  },
  {
   "cell_type": "markdown",
   "id": "025ec54d",
   "metadata": {},
   "source": [
    "### Persistence"
   ]
  },
  {
   "cell_type": "markdown",
   "id": "83e1a807",
   "metadata": {},
   "source": [
    "Save a state or load using:"
   ]
  },
  {
   "cell_type": "code",
   "execution_count": 15,
   "id": "1f3813fb",
   "metadata": {},
   "outputs": [],
   "source": [
    "db_manager.save()"
   ]
  },
  {
   "cell_type": "code",
   "execution_count": null,
   "id": "47553236",
   "metadata": {},
   "outputs": [
    {
     "data": {
      "text/plain": [
       "['members', 'revenue']"
      ]
     },
     "execution_count": 16,
     "metadata": {},
     "output_type": "execute_result"
    }
   ],
   "source": [
    "db_manager.load() # it does load automatically\n",
    "tables_name = db_manager.list_tables('dinewell')\n",
    "tables_name"
   ]
  },
  {
   "cell_type": "markdown",
   "id": "46042823",
   "metadata": {},
   "source": [
    "When you rerun you will get an error on creating database since it is already created even after restarting the kernel, run :"
   ]
  },
  {
   "cell_type": "code",
   "execution_count": 17,
   "id": "922ca155",
   "metadata": {},
   "outputs": [
    {
     "name": "stdout",
     "output_type": "stream",
     "text": [
      "Database 'dinewell' deleted successfully.\n"
     ]
    }
   ],
   "source": [
    "db_manager.delete_database('dinewell')"
   ]
  }
 ],
 "metadata": {
  "kernelspec": {
   "display_name": "Python 3",
   "language": "python",
   "name": "python3"
  },
  "language_info": {
   "codemirror_mode": {
    "name": "ipython",
    "version": 3
   },
   "file_extension": ".py",
   "mimetype": "text/x-python",
   "name": "python",
   "nbconvert_exporter": "python",
   "pygments_lexer": "ipython3",
   "version": "3.12.1"
  }
 },
 "nbformat": 4,
 "nbformat_minor": 5
}
